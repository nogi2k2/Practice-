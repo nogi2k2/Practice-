{
 "cells": [
  {
   "cell_type": "code",
   "execution_count": 5,
   "id": "b675eddb",
   "metadata": {},
   "outputs": [],
   "source": [
    "import tensorflow as tf\n",
    "import numpy as np\n",
    "from tensorflow.keras.models import Sequential\n",
    "from tensorflow.keras.layers import Dense, Flatten, Conv2D, MaxPool2D, Input, BatchNormalization\n",
    "from tensorflow.keras import Model\n",
    "from tensorflow.keras.datasets import cifar10\n",
    "\n",
    "%matplotlib inline"
   ]
  },
  {
   "cell_type": "code",
   "execution_count": 2,
   "id": "862e7548",
   "metadata": {},
   "outputs": [
    {
     "name": "stdout",
     "output_type": "stream",
     "text": [
      "[PhysicalDevice(name='/physical_device:GPU:0', device_type='GPU')]\n"
     ]
    }
   ],
   "source": [
    "print(tf.config.list_physical_devices('GPU'))\n",
    "gpu=tf.config.list_physical_devices('GPU')\n",
    "tf.config.experimental.set_memory_growth(gpu[0], enable=True)"
   ]
  },
  {
   "cell_type": "code",
   "execution_count": 3,
   "id": "197462f0",
   "metadata": {},
   "outputs": [
    {
     "name": "stdout",
     "output_type": "stream",
     "text": [
      "Downloading data from https://www.cs.toronto.edu/~kriz/cifar-10-python.tar.gz\n",
      "170498071/170498071 [==============================] - 186s 1us/step\n"
     ]
    }
   ],
   "source": [
    "(x_train, y_train), (x_test, y_test) = cifar10.load_data()\n",
    "x_train = x_train.astype('float32') / 255.0\n",
    "x_test = x_test.astype('float32') / 255.0"
   ]
  },
  {
   "cell_type": "code",
   "execution_count": 7,
   "id": "a1b8b7e0",
   "metadata": {},
   "outputs": [
    {
     "name": "stderr",
     "output_type": "stream",
     "text": [
      "c:\\users\\nogi2\\appdata\\local\\programs\\python\\python39\\lib\\site-packages\\keras\\optimizers\\optimizer_v2\\adam.py:114: UserWarning: The `lr` argument is deprecated, use `learning_rate` instead.\n",
      "  super().__init__(name, **kwargs)\n"
     ]
    }
   ],
   "source": [
    "model = Sequential()\n",
    "model.add(Input(shape=(32,32,3)))\n",
    "model.add(Conv2D(32, 3, activation='relu'))\n",
    "model.add(MaxPool2D((2,2)))\n",
    "model.add(Conv2D(64, 3, activation='relu'))\n",
    "model.add(MaxPool2D((2,2)))\n",
    "model.add(Conv2D(128, 3, activation='relu'))\n",
    "model.add(Flatten())\n",
    "model.add(Dense(64, activation='relu'))\n",
    "model.add(Dense(10))\n",
    "\n",
    "model.compile(loss = tf.keras.losses.SparseCategoricalCrossentropy(from_logits=True), optimizer = tf.keras.optimizers.Adam(lr = 3e-4), metrics = ['accuracy'])"
   ]
  },
  {
   "cell_type": "code",
   "execution_count": 8,
   "id": "c0bd6ad3",
   "metadata": {},
   "outputs": [
    {
     "name": "stdout",
     "output_type": "stream",
     "text": [
      "Epoch 1/10\n",
      "782/782 - 37s - loss: 1.6623 - accuracy: 0.3899 - 37s/epoch - 47ms/step\n",
      "Epoch 2/10\n",
      "782/782 - 4s - loss: 1.3477 - accuracy: 0.5181 - 4s/epoch - 5ms/step\n",
      "Epoch 3/10\n",
      "782/782 - 4s - loss: 1.2225 - accuracy: 0.5666 - 4s/epoch - 5ms/step\n",
      "Epoch 4/10\n",
      "782/782 - 4s - loss: 1.1267 - accuracy: 0.6026 - 4s/epoch - 5ms/step\n",
      "Epoch 5/10\n",
      "782/782 - 4s - loss: 1.0504 - accuracy: 0.6344 - 4s/epoch - 5ms/step\n",
      "Epoch 6/10\n",
      "782/782 - 5s - loss: 0.9848 - accuracy: 0.6576 - 5s/epoch - 6ms/step\n",
      "Epoch 7/10\n",
      "782/782 - 5s - loss: 0.9359 - accuracy: 0.6756 - 5s/epoch - 6ms/step\n",
      "Epoch 8/10\n",
      "782/782 - 4s - loss: 0.8896 - accuracy: 0.6935 - 4s/epoch - 5ms/step\n",
      "Epoch 9/10\n",
      "782/782 - 4s - loss: 0.8517 - accuracy: 0.7066 - 4s/epoch - 5ms/step\n",
      "Epoch 10/10\n",
      "782/782 - 4s - loss: 0.8123 - accuracy: 0.7189 - 4s/epoch - 5ms/step\n"
     ]
    },
    {
     "data": {
      "text/plain": [
       "[0.9026805758476257, 0.6852999925613403]"
      ]
     },
     "execution_count": 8,
     "metadata": {},
     "output_type": "execute_result"
    }
   ],
   "source": [
    "model.fit(x_train,y_train, epochs=10, batch_size=64, verbose=2)\n",
    "model.evaluate(x_test, y_test, verbose=0, batch_size=64)"
   ]
  },
  {
   "cell_type": "code",
   "execution_count": 9,
   "id": "301581d0",
   "metadata": {},
   "outputs": [
    {
     "name": "stdout",
     "output_type": "stream",
     "text": [
      "Model: \"sequential_1\"\n",
      "_________________________________________________________________\n",
      " Layer (type)                Output Shape              Param #   \n",
      "=================================================================\n",
      " conv2d_3 (Conv2D)           (None, 30, 30, 32)        896       \n",
      "                                                                 \n",
      " max_pooling2d_2 (MaxPooling  (None, 15, 15, 32)       0         \n",
      " 2D)                                                             \n",
      "                                                                 \n",
      " conv2d_4 (Conv2D)           (None, 13, 13, 64)        18496     \n",
      "                                                                 \n",
      " max_pooling2d_3 (MaxPooling  (None, 6, 6, 64)         0         \n",
      " 2D)                                                             \n",
      "                                                                 \n",
      " conv2d_5 (Conv2D)           (None, 4, 4, 128)         73856     \n",
      "                                                                 \n",
      " flatten_1 (Flatten)         (None, 2048)              0         \n",
      "                                                                 \n",
      " dense (Dense)               (None, 64)                131136    \n",
      "                                                                 \n",
      " dense_1 (Dense)             (None, 10)                650       \n",
      "                                                                 \n",
      "=================================================================\n",
      "Total params: 225,034\n",
      "Trainable params: 225,034\n",
      "Non-trainable params: 0\n",
      "_________________________________________________________________\n",
      "None\n"
     ]
    }
   ],
   "source": [
    "print(model.summary())"
   ]
  },
  {
   "cell_type": "code",
   "execution_count": 12,
   "id": "33b5f549",
   "metadata": {},
   "outputs": [],
   "source": [
    "input_layer = Input(shape=(32,32,3))\n",
    "conv1 = Conv2D(32, 3, name='conv1')(input_layer)\n",
    "batchnorm1 = BatchNormalization()(conv1)\n",
    "activation1 = tf.keras.activations.relu(batchnorm1)\n",
    "maxpool1 = MaxPool2D((2,2), name='maxpool1')(activation1)\n",
    "conv2 = Conv2D(64, 3, name='conv2')(maxpool1)\n",
    "batchnorm2 = BatchNormalization()(conv2)\n",
    "activation2 = tf.keras.activations.relu(batchnorm2)\n",
    "maxpool2 = MaxPool2D((2,2), name='maxpool2')(activation2)\n",
    "conv3 = Conv2D(128, 3, name='conv3')(maxpool2)\n",
    "batchnorm3 = BatchNormalization()(conv3)\n",
    "activation3 = tf.keras.activations.relu(batchnorm3)\n",
    "flatten = Flatten(name='flatten')(activation3)\n",
    "dense1 = Dense(64, activation='relu', name='dense1')(flatten)\n",
    "output_layer = Dense(10, name='output_layer')(dense1)\n",
    "model_functional = Model(inputs=[input_layer], outputs=[output_layer])\n",
    "\n",
    "model_functional.compile(loss=tf.keras.losses.SparseCategoricalCrossentropy(from_logits=True), optimizer=tf.keras.optimizers.Adam(lr=3e-4), metrics=['accuracy'])"
   ]
  },
  {
   "cell_type": "code",
   "execution_count": 13,
   "id": "42d6b377",
   "metadata": {},
   "outputs": [
    {
     "name": "stdout",
     "output_type": "stream",
     "text": [
      "Epoch 1/10\n",
      "782/782 - 5s - loss: 1.3492 - accuracy: 0.5158 - 5s/epoch - 6ms/step\n",
      "Epoch 2/10\n",
      "782/782 - 4s - loss: 0.9691 - accuracy: 0.6616 - 4s/epoch - 5ms/step\n",
      "Epoch 3/10\n",
      "782/782 - 4s - loss: 0.8176 - accuracy: 0.7169 - 4s/epoch - 5ms/step\n",
      "Epoch 4/10\n",
      "782/782 - 4s - loss: 0.7140 - accuracy: 0.7523 - 4s/epoch - 5ms/step\n",
      "Epoch 5/10\n",
      "782/782 - 5s - loss: 0.6291 - accuracy: 0.7820 - 5s/epoch - 6ms/step\n",
      "Epoch 6/10\n",
      "782/782 - 4s - loss: 0.5583 - accuracy: 0.8086 - 4s/epoch - 5ms/step\n",
      "Epoch 7/10\n",
      "782/782 - 4s - loss: 0.4926 - accuracy: 0.8326 - 4s/epoch - 5ms/step\n",
      "Epoch 8/10\n",
      "782/782 - 4s - loss: 0.4315 - accuracy: 0.8528 - 4s/epoch - 5ms/step\n",
      "Epoch 9/10\n",
      "782/782 - 4s - loss: 0.3828 - accuracy: 0.8712 - 4s/epoch - 5ms/step\n",
      "Epoch 10/10\n",
      "782/782 - 4s - loss: 0.3390 - accuracy: 0.8855 - 4s/epoch - 5ms/step\n"
     ]
    },
    {
     "data": {
      "text/plain": [
       "[0.970905065536499, 0.7003999948501587]"
      ]
     },
     "execution_count": 13,
     "metadata": {},
     "output_type": "execute_result"
    }
   ],
   "source": [
    "model_functional.fit(x_train,y_train, epochs=10, batch_size=64, verbose=2)\n",
    "model_functional.evaluate(x_test,y_test, batch_size=64, verbose=0)"
   ]
  },
  {
   "cell_type": "code",
   "execution_count": 14,
   "id": "fea29fde",
   "metadata": {},
   "outputs": [
    {
     "name": "stdout",
     "output_type": "stream",
     "text": [
      "Model: \"model_1\"\n",
      "_________________________________________________________________\n",
      " Layer (type)                Output Shape              Param #   \n",
      "=================================================================\n",
      " input_5 (InputLayer)        [(None, 32, 32, 3)]       0         \n",
      "                                                                 \n",
      " conv1 (Conv2D)              (None, 30, 30, 32)        896       \n",
      "                                                                 \n",
      " batch_normalization_6 (Batc  (None, 30, 30, 32)       128       \n",
      " hNormalization)                                                 \n",
      "                                                                 \n",
      " tf.nn.relu_6 (TFOpLambda)   (None, 30, 30, 32)        0         \n",
      "                                                                 \n",
      " maxpool1 (MaxPooling2D)     (None, 15, 15, 32)        0         \n",
      "                                                                 \n",
      " conv2 (Conv2D)              (None, 13, 13, 64)        18496     \n",
      "                                                                 \n",
      " batch_normalization_7 (Batc  (None, 13, 13, 64)       256       \n",
      " hNormalization)                                                 \n",
      "                                                                 \n",
      " tf.nn.relu_7 (TFOpLambda)   (None, 13, 13, 64)        0         \n",
      "                                                                 \n",
      " maxpool2 (MaxPooling2D)     (None, 6, 6, 64)          0         \n",
      "                                                                 \n",
      " conv3 (Conv2D)              (None, 4, 4, 128)         73856     \n",
      "                                                                 \n",
      " batch_normalization_8 (Batc  (None, 4, 4, 128)        512       \n",
      " hNormalization)                                                 \n",
      "                                                                 \n",
      " tf.nn.relu_8 (TFOpLambda)   (None, 4, 4, 128)         0         \n",
      "                                                                 \n",
      " flatten (Flatten)           (None, 2048)              0         \n",
      "                                                                 \n",
      " dense1 (Dense)              (None, 64)                131136    \n",
      "                                                                 \n",
      " output_layer (Dense)        (None, 10)                650       \n",
      "                                                                 \n",
      "=================================================================\n",
      "Total params: 225,930\n",
      "Trainable params: 225,482\n",
      "Non-trainable params: 448\n",
      "_________________________________________________________________\n",
      "None\n"
     ]
    }
   ],
   "source": [
    "print(model_functional.summary())"
   ]
  }
 ],
 "metadata": {
  "kernelspec": {
   "display_name": "Python 3",
   "language": "python",
   "name": "python3"
  },
  "language_info": {
   "codemirror_mode": {
    "name": "ipython",
    "version": 3
   },
   "file_extension": ".py",
   "mimetype": "text/x-python",
   "name": "python",
   "nbconvert_exporter": "python",
   "pygments_lexer": "ipython3",
   "version": "3.9.4"
  }
 },
 "nbformat": 4,
 "nbformat_minor": 5
}
