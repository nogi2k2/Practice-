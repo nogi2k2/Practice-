{
 "cells": [
  {
   "cell_type": "code",
   "execution_count": 5,
   "id": "b675eddb",
   "metadata": {},
   "outputs": [],
   "source": [
    "import tensorflow as tf\n",
    "import numpy as np\n",
    "from tensorflow.keras.models import Sequential\n",
    "from tensorflow.keras.layers import Dense, Flatten, Conv2D, MaxPool2D, Input, BatchNormalization\n",
    "from tensorflow.keras import Model\n",
    "from tensorflow.keras.datasets import cifar10\n",
    "\n",
    "%matplotlib inline"
   ]
  },
  {
   "cell_type": "code",
   "execution_count": 2,
   "id": "862e7548",
   "metadata": {},
   "outputs": [
    {
     "name": "stdout",
     "output_type": "stream",
     "text": [
      "[PhysicalDevice(name='/physical_device:GPU:0', device_type='GPU')]\n"
     ]
    }
   ],
   "source": [
    "print(tf.config.list_physical_devices('GPU'))\n",
    "gpu=tf.config.list_physical_devices('GPU')\n",
    "tf.config.experimental.set_memory_growth(gpu[0], enable=True)"
   ]
  },
  {
   "cell_type": "code",
   "execution_count": 3,
   "id": "197462f0",
   "metadata": {},
   "outputs": [
    {
     "name": "stdout",
     "output_type": "stream",
     "text": [
      "Downloading data from https://www.cs.toronto.edu/~kriz/cifar-10-python.tar.gz\n",
      "170498071/170498071 [==============================] - 186s 1us/step\n"
     ]
    }
   ],
   "source": [
    "(x_train, y_train), (x_test, y_test) = cifar10.load_data()\n",
    "x_train = x_train.astype('float32') / 255.0\n",
    "x_test = x_test.astype('float32') / 255.0"
   ]
  },
  {
   "cell_type": "code",
   "execution_count": null,
   "id": "a1b8b7e0",
   "metadata": {},
   "outputs": [],
   "source": [
    "model = Sequential()\n",
    "model.add(Input(shape=(32,32,3)))\n",
    "model.add(Conv2D(32, 3, activation='relu'))\n",
    "model.add(MaxPool2D((2,2)))\n",
    "model.add(Conv2D(64, 3, activation='relu'))\n",
    "model.add(MaxPool2D((2,2)))\n",
    "model.add(Conv2D(128, 3, activation='relu'))\n",
    "model.add(Flatten())\n",
    "model.add(Dense(64, actvation='relu'))\n",
    "model.add(Dense(10))\n",
    "\n",
    "model.compile(loss = tf.keras.losses.SparseCategoricalCrossentropy(from_logits=True), optimizer = tf.keras.optimizers.Adam(lr = 3e-4), metrics = ['accuracy'])"
   ]
  },
  {
   "cell_type": "code",
   "execution_count": null,
   "id": "c0bd6ad3",
   "metadata": {},
   "outputs": [],
   "source": [
    "model.fit(x_train,y_train, epochs=10, batch_size=64, verbose=2)\n",
    "model.evaluate(x_test, y_test, verbose=0, batch_size=64)"
   ]
  },
  {
   "cell_type": "code",
   "execution_count": null,
   "id": "301581d0",
   "metadata": {},
   "outputs": [],
   "source": [
    "print(model.summary())"
   ]
  },
  {
   "cell_type": "code",
   "execution_count": null,
   "id": "33b5f549",
   "metadata": {},
   "outputs": [],
   "source": [
    "input_layer = Input(shape=(32,32,3))\n",
    "conv1 = Conv2D(32, 3, name='conv1')(input_layer)\n",
    "batchnorm1 = BatchNormalization()(conv1)\n",
    "activation1 = tf.keras.activations.relu(batchnorm1)\n",
    "maxpool1 = MaxPool2D((2,2), name='maxpool1')(activation1)\n",
    "conv2 = Conv2D(64, 3, name='conv2')(maxpool1)\n",
    "batchnorm2 = BatchNormalization()(conv2)\n",
    "activation2 = tf.keras.activations.relu(batchnorm2)\n",
    "maxpool2 = MaxPool2D((2,2), name='maxpool2')(activation2)\n",
    "conv3 = Conv2D(128, 3, name='conv3')(maxpool2)\n",
    "batchnorm3 = BatchNormalization()(conv3)\n",
    "activation3 = tf.keras.activations.relu(batchnorm3)\n",
    "flatten = Flatten(name='flatten')(activation3)\n",
    "dense1 = Dense(64, acitvation='relu', name='dense1')(flatten)\n",
    "output_layer = Dense(10, name='output_layer')(dense1)\n",
    "model_functional = Model(inputs=[input_layer], outputs=[output_layer])\n",
    "\n",
    "model_functional.compile(loss=tf.keras.SparseCategoricalCrossentropy(from_logits=True), optimizer=tf.keras.optimizers.Adam(lr=3e-4), metrics=['accuracy'])"
   ]
  },
  {
   "cell_type": "code",
   "execution_count": null,
   "id": "42d6b377",
   "metadata": {},
   "outputs": [],
   "source": [
    "model_functional.fit(x_train,y_train, epochs=10, batch_size=64, verbose=2)\n",
    "model_functional.evaluate(x_test,y_test, batch_size=64, verbose=0)"
   ]
  },
  {
   "cell_type": "code",
   "execution_count": null,
   "id": "fea29fde",
   "metadata": {},
   "outputs": [],
   "source": [
    "print(model_functional.summary())"
   ]
  },
  {
   "cell_type": "code",
   "execution_count": null,
   "id": "ae6b1aa4",
   "metadata": {},
   "outputs": [],
   "source": []
  }
 ],
 "metadata": {
  "kernelspec": {
   "display_name": "Python 3",
   "language": "python",
   "name": "python3"
  },
  "language_info": {
   "codemirror_mode": {
    "name": "ipython",
    "version": 3
   },
   "file_extension": ".py",
   "mimetype": "text/x-python",
   "name": "python",
   "nbconvert_exporter": "python",
   "pygments_lexer": "ipython3",
   "version": "3.9.4"
  }
 },
 "nbformat": 4,
 "nbformat_minor": 5
}
