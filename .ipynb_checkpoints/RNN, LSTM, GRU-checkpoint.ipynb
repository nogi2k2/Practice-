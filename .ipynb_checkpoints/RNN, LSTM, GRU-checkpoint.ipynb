{
 "cells": [
  {
   "cell_type": "code",
   "execution_count": 1,
   "id": "6fe1ae33",
   "metadata": {},
   "outputs": [
    {
     "name": "stderr",
     "output_type": "stream",
     "text": [
      "c:\\users\\nogi2\\appdata\\local\\programs\\python\\python39\\lib\\site-packages\\numpy\\_distributor_init.py:30: UserWarning: loaded more than 1 DLL from .libs:\n",
      "c:\\users\\nogi2\\appdata\\local\\programs\\python\\python39\\lib\\site-packages\\numpy\\.libs\\libopenblas.EL2C6PLE4ZYW3ECEVIV3OXXGRN2NRFM2.gfortran-win_amd64.dll\n",
      "c:\\users\\nogi2\\appdata\\local\\programs\\python\\python39\\lib\\site-packages\\numpy\\.libs\\libopenblas.XWYDX2IKJW2NMTWSFYNGFUWKQU3LYTCZ.gfortran-win_amd64.dll\n",
      "  warnings.warn(\"loaded more than 1 DLL from .libs:\"\n"
     ]
    }
   ],
   "source": [
    "import tensorflow as tf\n",
    "from tensorflow.keras.models import Sequential\n",
    "from tensorflow.keras.layers import Dense, LSTM, Bidirectional, SimpleRNN, GRU\n",
    "from tensorflow.keras import Model, regularizers\n",
    "from tensorflow.keras.datasets import mnist"
   ]
  },
  {
   "cell_type": "code",
   "execution_count": 5,
   "id": "ba20bc6a",
   "metadata": {},
   "outputs": [
    {
     "name": "stdout",
     "output_type": "stream",
     "text": [
      "[PhysicalDevice(name='/physical_device:GPU:0', device_type='GPU')]\n"
     ]
    }
   ],
   "source": [
    "print(tf.config.list_physical_devices('GPU'))\n",
    "gpu = tf.config.list_physical_devices('GPU')\n",
    "tf.config.experimental.set_memory_growth(gpu[0], enable=True)"
   ]
  },
  {
   "cell_type": "code",
   "execution_count": 6,
   "id": "207ea976",
   "metadata": {},
   "outputs": [],
   "source": [
    "(x_train,y_train), (x_test, y_test) = mnist.load_data()\n",
    "x_test = x_test.astype('float32') / 25.0\n",
    "x_train = x_train.astype('float32') / 255.0"
   ]
  },
  {
   "cell_type": "code",
   "execution_count": null,
   "id": "cc2460c8",
   "metadata": {},
   "outputs": [],
   "source": [
    "#SimpleRNN\n",
    "model = Sequential()\n",
    "model.add(Input((None, 28)))\n",
    "model.add(SimpleRNN(512, return_sequences = True, activation = 'relu'))\n",
    "model.add(SimpleRNN(512, activation='relu'))\n",
    "model.add(Dense(10))\n",
    "\n",
    "model.compile(loss = tf.keras.losses.SparseCategoricalCrossentropy(from_logits=Tre), optimizer = tf.keras.optimizers.Adam(lr=0.01), metrics = ['accuracy'])"
   ]
  },
  {
   "cell_type": "code",
   "execution_count": null,
   "id": "cd07bd0a",
   "metadata": {},
   "outputs": [],
   "source": [
    "print(model.summary())"
   ]
  },
  {
   "cell_type": "code",
   "execution_count": null,
   "id": "a2de4f9f",
   "metadata": {},
   "outputs": [],
   "source": [
    "model.fit(x_train,, y_train, epochs=10, verbose = 2, batch_size = 64)\n",
    "model.evaluate(x_Test, y_test, batch_size = 64, verbose = 0)"
   ]
  },
  {
   "cell_type": "code",
   "execution_count": null,
   "id": "285618db",
   "metadata": {},
   "outputs": [],
   "source": [
    "#GRU\n",
    "model_gru = Sequential()\n",
    "model_gru.add(Input((None, 28)))\n",
    "model_gru.add(GRU(256, return_sequences = True, activation = 'tanh'))\n",
    "model_gru.add(GRU(256, activation='tanh'))\n",
    "model_gru.add(Dense(10))\n",
    "\n",
    "model_gru.compile(loss = tf.keras.losses.SparseCategoricalCrossentropy(from_logits=Tre), optimizer = tf.keras.optimizers.Adam(lr=0.01), metrics = ['accuracy'])"
   ]
  },
  {
   "cell_type": "code",
   "execution_count": null,
   "id": "f58fdc4a",
   "metadata": {},
   "outputs": [],
   "source": [
    "print(model_gru.summary())"
   ]
  },
  {
   "cell_type": "code",
   "execution_count": null,
   "id": "cda2439d",
   "metadata": {},
   "outputs": [],
   "source": [
    "model_gru.fit(x_train,, y_train, epochs=10, verbose = 2, batch_size = 64)\n",
    "model_gru.evaluate(x_Test, y_test, batch_size = 64, verbose = 0)"
   ]
  },
  {
   "cell_type": "code",
   "execution_count": null,
   "id": "e24df658",
   "metadata": {},
   "outputs": [],
   "source": [
    "#LSTM\n",
    "model_lstm = Sequential()\n",
    "model_lstm.add(Input((None, 28)))\n",
    "model_lstm.add(Bidirectional(LSTM(256, return_sequences = True, activation = 'tanh')))\n",
    "model_lstm.add(LSTM(256, activation ='tanh', return_sequences=False))\n",
    "model_lstm.add(Dense(10))\n",
    "\n",
    "model_lstm.compile(loss = tf.keras.losses.SparseCategoricalCrossentropy(from_logits=Tre), optimizer = tf.keras.optimizers.Adam(lr=0.01), metrics = ['accuracy'])"
   ]
  },
  {
   "cell_type": "code",
   "execution_count": null,
   "id": "788f9052",
   "metadata": {},
   "outputs": [],
   "source": [
    "model_lstm.summary()"
   ]
  },
  {
   "cell_type": "code",
   "execution_count": null,
   "id": "bae53730",
   "metadata": {},
   "outputs": [],
   "source": [
    "model_lstm.fit(x_train,, y_train, epochs=10, verbose = 2, batch_size = 64)\n",
    "model_lstm.evaluate(x_Test, y_test, batch_size = 64, verbose = 0)"
   ]
  },
  {
   "cell_type": "code",
   "execution_count": null,
   "id": "1dc4b65b",
   "metadata": {},
   "outputs": [],
   "source": []
  },
  {
   "cell_type": "code",
   "execution_count": null,
   "id": "d6b80353",
   "metadata": {},
   "outputs": [],
   "source": []
  }
 ],
 "metadata": {
  "kernelspec": {
   "display_name": "Python 3",
   "language": "python",
   "name": "python3"
  },
  "language_info": {
   "codemirror_mode": {
    "name": "ipython",
    "version": 3
   },
   "file_extension": ".py",
   "mimetype": "text/x-python",
   "name": "python",
   "nbconvert_exporter": "python",
   "pygments_lexer": "ipython3",
   "version": "3.9.4"
  }
 },
 "nbformat": 4,
 "nbformat_minor": 5
}
