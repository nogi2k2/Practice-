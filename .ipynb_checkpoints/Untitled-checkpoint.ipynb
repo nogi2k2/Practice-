{
 "cells": [
  {
   "cell_type": "code",
   "execution_count": 30,
   "id": "ee9a94a2",
   "metadata": {},
   "outputs": [],
   "source": [
    "import tensorflow as tf\n",
    "from tensorflow.keras.models import Sequential\n",
    "from tensorflow.keras.layers import Dense, Flatten, Input\n",
    "from tensorflow.keras.datasets import mnist\n",
    "from tensorflow.keras import Model"
   ]
  },
  {
   "cell_type": "code",
   "execution_count": 5,
   "id": "5f178c0b",
   "metadata": {},
   "outputs": [
    {
     "name": "stdout",
     "output_type": "stream",
     "text": [
      "[PhysicalDevice(name='/physical_device:GPU:0', device_type='GPU')]\n"
     ]
    }
   ],
   "source": [
    "print(tf.config.list_physical_devices('GPU'))"
   ]
  },
  {
   "cell_type": "code",
   "execution_count": 11,
   "id": "77287984",
   "metadata": {},
   "outputs": [],
   "source": [
    "(x_train,y_train), (x_test,y_test) = mnist.load_data()\n",
    "x_train = x_train.reshape(-1, 28*28).astype('float32') / 255.0\n",
    "x_test = x_test.reshape(-1, 28*28).astype('float32') / 255.0"
   ]
  },
  {
   "cell_type": "code",
   "execution_count": 28,
   "id": "2202104f",
   "metadata": {},
   "outputs": [],
   "source": [
    "#Sequential API\n",
    "model = Sequential()\n",
    "model.add(Input(shape=(28*28)))\n",
    "model.add(Dense(512, activation='relu'))\n",
    "model.add(Dense(256, activation='relu'))\n",
    "model.add(Dense(10))\n",
    "\n",
    "\n",
    "model.compile(optimizer=tf.keras.optimizers.Adam(lr=0.01), loss=tf.keras.losses.SparseCategoricalCrossentropy(from_logits=True), metrics=['accuracy'])"
   ]
  },
  {
   "cell_type": "code",
   "execution_count": 22,
   "id": "82929aac",
   "metadata": {},
   "outputs": [
    {
     "name": "stdout",
     "output_type": "stream",
     "text": [
      "Epoch 1/5\n",
      "1875/1875 - 6s - loss: 0.2931 - accuracy: 0.9191 - 6s/epoch - 3ms/step\n",
      "Epoch 2/5\n",
      "1875/1875 - 4s - loss: 0.2070 - accuracy: 0.9462 - 4s/epoch - 2ms/step\n",
      "Epoch 3/5\n",
      "1875/1875 - 4s - loss: 0.1691 - accuracy: 0.9563 - 4s/epoch - 2ms/step\n",
      "Epoch 4/5\n",
      "1875/1875 - 4s - loss: 0.1523 - accuracy: 0.9611 - 4s/epoch - 2ms/step\n",
      "Epoch 5/5\n",
      "1875/1875 - 4s - loss: 0.1408 - accuracy: 0.9648 - 4s/epoch - 2ms/step\n"
     ]
    },
    {
     "data": {
      "text/plain": [
       "[0.15531256794929504, 0.9653000235557556]"
      ]
     },
     "execution_count": 22,
     "metadata": {},
     "output_type": "execute_result"
    }
   ],
   "source": [
    "model.fit(x_train,y_train, verbose = 2, batch_size=32, epochs=5)\n",
    "model.evaluate(x_test,y_test, batch_size=32, verbose=0)"
   ]
  },
  {
   "cell_type": "code",
   "execution_count": 29,
   "id": "d9921420",
   "metadata": {},
   "outputs": [
    {
     "name": "stdout",
     "output_type": "stream",
     "text": [
      "Model: \"sequential_9\"\n",
      "_________________________________________________________________\n",
      " Layer (type)                Output Shape              Param #   \n",
      "=================================================================\n",
      " dense_16 (Dense)            (None, 512)               401920    \n",
      "                                                                 \n",
      " dense_17 (Dense)            (None, 256)               131328    \n",
      "                                                                 \n",
      " dense_18 (Dense)            (None, 10)                2570      \n",
      "                                                                 \n",
      "=================================================================\n",
      "Total params: 535,818\n",
      "Trainable params: 535,818\n",
      "Non-trainable params: 0\n",
      "_________________________________________________________________\n"
     ]
    }
   ],
   "source": [
    "model.summary()"
   ]
  },
  {
   "cell_type": "code",
   "execution_count": 34,
   "id": "e6b5450b",
   "metadata": {},
   "outputs": [],
   "source": [
    "#Functional API\n",
    "input_layer = Input(shape=(28*28), name='input_layer')\n",
    "temp_layer = Dense(512, activation='relu', name='first_dense_layer')(input_layer)\n",
    "temp_layer = Dense(256, activation='relu', name='second_dense_layer')(temp_layer)\n",
    "output_layer = Dense(10, activation = 'softmax', name='output_layer')(temp_layer)\n",
    "model = Model(inputs=[input_layer], outputs=[output_layer])\n",
    "\n",
    "model.compile(loss=tf.keras.losses.SparseCategoricalCrossentropy(from_logits=False), optimizer=tf.keras.optimizers.Adam(lr=0.01), metrics=['accuracy'])"
   ]
  },
  {
   "cell_type": "code",
   "execution_count": 36,
   "id": "e755eb96",
   "metadata": {},
   "outputs": [
    {
     "name": "stdout",
     "output_type": "stream",
     "text": [
      "Epoch 1/5\n",
      "1875/1875 - 4s - loss: 0.2938 - accuracy: 0.9176 - 4s/epoch - 2ms/step\n",
      "Epoch 2/5\n",
      "1875/1875 - 4s - loss: 0.1866 - accuracy: 0.9513 - 4s/epoch - 2ms/step\n",
      "Epoch 3/5\n",
      "1875/1875 - 4s - loss: 0.1633 - accuracy: 0.9576 - 4s/epoch - 2ms/step\n",
      "Epoch 4/5\n",
      "1875/1875 - 4s - loss: 0.1487 - accuracy: 0.9631 - 4s/epoch - 2ms/step\n",
      "Epoch 5/5\n",
      "1875/1875 - 4s - loss: 0.1388 - accuracy: 0.9656 - 4s/epoch - 2ms/step\n"
     ]
    },
    {
     "data": {
      "text/plain": [
       "[0.1844950020313263, 0.9596999883651733]"
      ]
     },
     "execution_count": 36,
     "metadata": {},
     "output_type": "execute_result"
    }
   ],
   "source": [
    "model.fit(x_train,y_train, epochs=5, verbose = 2, batch_size=32)\n",
    "model.evaluate(x_test,y_test, verbose=0, batch_size=32)"
   ]
  },
  {
   "cell_type": "code",
   "execution_count": 37,
   "id": "a46decba",
   "metadata": {},
   "outputs": [
    {
     "name": "stdout",
     "output_type": "stream",
     "text": [
      "Model: \"model_1\"\n",
      "_________________________________________________________________\n",
      " Layer (type)                Output Shape              Param #   \n",
      "=================================================================\n",
      " input_layer (InputLayer)    [(None, 784)]             0         \n",
      "                                                                 \n",
      " first_dense_layer (Dense)   (None, 512)               401920    \n",
      "                                                                 \n",
      " second_dense_layer (Dense)  (None, 256)               131328    \n",
      "                                                                 \n",
      " output_layer (Dense)        (None, 10)                2570      \n",
      "                                                                 \n",
      "=================================================================\n",
      "Total params: 535,818\n",
      "Trainable params: 535,818\n",
      "Non-trainable params: 0\n",
      "_________________________________________________________________\n"
     ]
    }
   ],
   "source": [
    "model.summary()"
   ]
  }
 ],
 "metadata": {
  "kernelspec": {
   "display_name": "Python 3",
   "language": "python",
   "name": "python3"
  },
  "language_info": {
   "codemirror_mode": {
    "name": "ipython",
    "version": 3
   },
   "file_extension": ".py",
   "mimetype": "text/x-python",
   "name": "python",
   "nbconvert_exporter": "python",
   "pygments_lexer": "ipython3",
   "version": "3.9.4"
  }
 },
 "nbformat": 4,
 "nbformat_minor": 5
}
