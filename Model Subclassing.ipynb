{
 "cells": [
  {
   "cell_type": "code",
   "execution_count": 1,
   "id": "5181e1b0",
   "metadata": {},
   "outputs": [
    {
     "name": "stderr",
     "output_type": "stream",
     "text": [
      "c:\\users\\nogi2\\appdata\\local\\programs\\python\\python39\\lib\\site-packages\\numpy\\_distributor_init.py:30: UserWarning: loaded more than 1 DLL from .libs:\n",
      "c:\\users\\nogi2\\appdata\\local\\programs\\python\\python39\\lib\\site-packages\\numpy\\.libs\\libopenblas.EL2C6PLE4ZYW3ECEVIV3OXXGRN2NRFM2.gfortran-win_amd64.dll\n",
      "c:\\users\\nogi2\\appdata\\local\\programs\\python\\python39\\lib\\site-packages\\numpy\\.libs\\libopenblas.XWYDX2IKJW2NMTWSFYNGFUWKQU3LYTCZ.gfortran-win_amd64.dll\n",
      "  warnings.warn(\"loaded more than 1 DLL from .libs:\"\n"
     ]
    }
   ],
   "source": [
    "import tensorflow as tf\n",
    "from tensorflow.keras import layer\n",
    "from tensorflow.keras.layers import Conv2D, Input, MaxPooling2D, Dense, BatchNormalization, Flatten, GlobalAveragePooling2D\n",
    "from tensorflow.keras import Model, regularizers, Sequential\n",
    "from tensorflow.keras.activation import relu\n",
    "from tensorflow.keras.datasets import mnist"
   ]
  },
  {
   "cell_type": "code",
   "execution_count": 2,
   "id": "d02dfea3",
   "metadata": {},
   "outputs": [
    {
     "name": "stdout",
     "output_type": "stream",
     "text": [
      "[PhysicalDevice(name='/physical_device:GPU:0', device_type='GPU')]\n"
     ]
    }
   ],
   "source": [
    "print(tf.config.list_physical_devices('GPU'))\n",
    "gpu = tf.config.list_physical_devices('GPU')\n",
    "tf.config.experimental.set_memory_growth(gpu[0], enable=True)"
   ]
  },
  {
   "cell_type": "code",
   "execution_count": null,
   "id": "9fda1d74",
   "metadata": {},
   "outputs": [],
   "source": [
    "(xtrain,ytrain), (xtest,ytest) = mnist.load_data()\n",
    "xtrain = xtrain.reshape(-1, 28,28, 1).astype(\"float32\") / 255.0\n",
    "xtest = xtest.reshape(-1, 28,28, 1).astype(\"float32\") / 255.0"
   ]
  },
  {
   "cell_type": "code",
   "execution_count": null,
   "id": "86e789bb",
   "metadata": {},
   "outputs": [],
   "source": [
    "class CNN_block(layers.Layer):\n",
    "    def __init__(self, output_channels):\n",
    "        super(CNN_block, self).__init__()\n",
    "        self.conv = Conv2D(output_channels, kernel_size)\n",
    "        self.bn = BatchNormalization()\n",
    "        \n",
    "    def call(self, input, training = False):\n",
    "        x = self.conv(input)\n",
    "        x = self.bn(x, training = training)\n",
    "        x = relu(x)\n",
    "        return x\n",
    "    \n",
    "model = Sequential()\n",
    "model.add(CNN_block(32))\n",
    "model.add(CNN_block(64))\n",
    "model.add(CNN_block(128))\n",
    "model.add(Flatten())\n",
    "model.add(Dense(10, activation='softmax'))\n",
    "\n",
    "model.compile(loss=tf.keras.losses.SparseCategoricalCrossentropy(),\n",
    "             optimizer=tf.keras.optimizers.Adam(),\n",
    "             metrics=['accuracy'])"
   ]
  },
  {
   "cell_type": "code",
   "execution_count": null,
   "id": "017f0477",
   "metadata": {},
   "outputs": [],
   "source": [
    "model.fit(xtrain, ytrain, batch_size=, epochs=, verbose=2)\n",
    "model.evaluate(xtest, ytest, verbose=0, batch_size=)"
   ]
  },
  {
   "cell_type": "code",
   "execution_count": null,
   "id": "ebbd253b",
   "metadata": {},
   "outputs": [],
   "source": [
    "class Resnet_block(Model):\n",
    "    def __init__(self, output_channels):\n",
    "        super(Resnet, self).__init__()\n",
    "        self.cnn1 = CNN_block(output_channels[0])\n",
    "        self.cnn2 = CNN_block(output_channels[1])\n",
    "        self.cnn3 = CNN_block(output_channels[2])\n",
    "        self.pool = MaxPooling2D()\n",
    "        self.identity_mapping = Conv2D(output_channels[1], 1, padding='same')\n",
    "        \n",
    "    def call(self, input_tensor, training = False):\n",
    "        x = self.cnn1(input_tensor, training = training)\n",
    "        x = self.cnn2(x, training = training)\n",
    "        x = self.cnn3(x+self.identity_mapping, training = training)\n",
    "        return pool(x)\n",
    "    \n",
    "class Resnet(Model):\n",
    "\tdef __init__(self, classes):\n",
    "    \tsuper(Resnet, self).__init__()\n",
    "        self.res1 = Resnet_block([32, 64, 128])\n",
    "    \tself.res2 = Resnet_block([128, 128, 256])\n",
    "        self.res3 = Resnet_block([128, 256, 512])\n",
    "        self.pooling = GlobalAveragePooling2D()\n",
    "        self.out = Dense(classes)\n",
    "        \n",
    "\tdef call(self, input_tensor, training = False):\n",
    "        x = self.res1(input_tensor, training = training)\n",
    "        x = self.res2(x, training=training)\n",
    "        x = self.res3(x, training = training)\n",
    "        x = self.pooling(x)\n",
    "        return self.out(x)\n",
    "    \n",
    "    def model(self):\n",
    "        x = Input(shape=(28,28,1))\n",
    "    \treturn Model(inputs=[x], outputs=[self.call(x)])\n",
    "    \n",
    "model_resnet = Resnet(classes = 10)\n",
    "model_resnet.compile(loss = tf.keras.losses.SparseCategoricalCrossetropy(),\n",
    "             optimizer = tf.keras.optimizers.Adam,\n",
    "             metrics = ['accuracy'])"
   ]
  },
  {
   "cell_type": "code",
   "execution_count": null,
   "id": "2922accf",
   "metadata": {},
   "outputs": [],
   "source": [
    "model_resnet.fit(xtrain, ytrain, epochs = 10, verbose=2, batch_size = 64)\n",
    "print(model_resnet.model().summary())\n",
    "model_resnet.evaluate(xtest, ytest, verbose=0, batch_size=64)"
   ]
  }
 ],
 "metadata": {
  "kernelspec": {
   "display_name": "Python 3 (ipykernel)",
   "language": "python",
   "name": "python3"
  },
  "language_info": {
   "codemirror_mode": {
    "name": "ipython",
    "version": 3
   },
   "file_extension": ".py",
   "mimetype": "text/x-python",
   "name": "python",
   "nbconvert_exporter": "python",
   "pygments_lexer": "ipython3",
   "version": "3.10.9"
  }
 },
 "nbformat": 4,
 "nbformat_minor": 5
}
