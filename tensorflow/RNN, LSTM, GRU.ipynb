{
 "cells": [
  {
   "cell_type": "code",
   "execution_count": 7,
   "id": "6fe1ae33",
   "metadata": {},
   "outputs": [],
   "source": [
    "import tensorflow as tf\n",
    "from tensorflow.keras.models import Sequential\n",
    "from tensorflow.keras.layers import Dense, LSTM, Bidirectional, SimpleRNN, GRU, Input\n",
    "from tensorflow.keras import Model, regularizers\n",
    "from tensorflow.keras.datasets import mnist"
   ]
  },
  {
   "cell_type": "code",
   "execution_count": 2,
   "id": "ba20bc6a",
   "metadata": {},
   "outputs": [
    {
     "name": "stdout",
     "output_type": "stream",
     "text": [
      "[PhysicalDevice(name='/physical_device:GPU:0', device_type='GPU')]\n"
     ]
    }
   ],
   "source": [
    "print(tf.config.list_physical_devices('GPU'))\n",
    "gpu = tf.config.list_physical_devices('GPU')\n",
    "tf.config.experimental.set_memory_growth(gpu[0], enable=True)"
   ]
  },
  {
   "cell_type": "code",
   "execution_count": 3,
   "id": "207ea976",
   "metadata": {},
   "outputs": [],
   "source": [
    "(x_train,y_train), (x_test, y_test) = mnist.load_data()\n",
    "x_test = x_test.astype('float32') / 25.0\n",
    "x_train = x_train.astype('float32') / 255.0"
   ]
  },
  {
   "cell_type": "code",
   "execution_count": 10,
   "id": "cc2460c8",
   "metadata": {},
   "outputs": [
    {
     "name": "stderr",
     "output_type": "stream",
     "text": [
      "c:\\users\\nogi2\\appdata\\local\\programs\\python\\python39\\lib\\site-packages\\keras\\optimizers\\optimizer_v2\\adam.py:114: UserWarning: The `lr` argument is deprecated, use `learning_rate` instead.\n",
      "  super().__init__(name, **kwargs)\n"
     ]
    }
   ],
   "source": [
    "#SimpleRNN\n",
    "model = Sequential()\n",
    "model.add(Input((None, 28)))\n",
    "model.add(SimpleRNN(512, return_sequences = True, activation = 'relu'))\n",
    "model.add(SimpleRNN(512, activation='relu'))\n",
    "model.add(Dense(10))\n",
    "\n",
    "model.compile(loss = tf.keras.losses.SparseCategoricalCrossentropy(from_logits=True), optimizer = tf.keras.optimizers.Adam(lr=0.01), metrics = ['accuracy'])"
   ]
  },
  {
   "cell_type": "code",
   "execution_count": 11,
   "id": "cd07bd0a",
   "metadata": {},
   "outputs": [
    {
     "name": "stdout",
     "output_type": "stream",
     "text": [
      "Model: \"sequential_3\"\n",
      "_________________________________________________________________\n",
      " Layer (type)                Output Shape              Param #   \n",
      "=================================================================\n",
      " simple_rnn_2 (SimpleRNN)    (None, None, 512)         276992    \n",
      "                                                                 \n",
      " simple_rnn_3 (SimpleRNN)    (None, 512)               524800    \n",
      "                                                                 \n",
      " dense_1 (Dense)             (None, 10)                5130      \n",
      "                                                                 \n",
      "=================================================================\n",
      "Total params: 806,922\n",
      "Trainable params: 806,922\n",
      "Non-trainable params: 0\n",
      "_________________________________________________________________\n",
      "None\n"
     ]
    }
   ],
   "source": [
    "print(model.summary())"
   ]
  },
  {
   "cell_type": "code",
   "execution_count": 17,
   "id": "286b7be0",
   "metadata": {},
   "outputs": [
    {
     "data": {
      "text/plain": [
       "[9318.4091796875, 0.10639999806880951]"
      ]
     },
     "execution_count": 17,
     "metadata": {},
     "output_type": "execute_result"
    }
   ],
   "source": [
    "model.fit(x_train, y_train, epochs=10, verbose = 2, batch_size = 64)\n",
    "model.evaluate(x_test, y_test, batch_size = 64, verbose = 0)"
   ]
  },
  {
   "cell_type": "code",
   "execution_count": 18,
   "id": "285618db",
   "metadata": {},
   "outputs": [],
   "source": [
    "#GRU\n",
    "model_gru = Sequential()\n",
    "model_gru.add(Input((None, 28)))\n",
    "model_gru.add(GRU(256, return_sequences = True, activation = 'tanh'))\n",
    "model_gru.add(GRU(256, activation='tanh'))\n",
    "model_gru.add(Dense(10))\n",
    "\n",
    "model_gru.compile(loss = tf.keras.losses.SparseCategoricalCrossentropy(from_logits=True), optimizer = tf.keras.optimizers.Adam(lr=0.01), metrics = ['accuracy'])"
   ]
  },
  {
   "cell_type": "code",
   "execution_count": 19,
   "id": "f58fdc4a",
   "metadata": {},
   "outputs": [
    {
     "name": "stdout",
     "output_type": "stream",
     "text": [
      "Model: \"sequential_4\"\n",
      "_________________________________________________________________\n",
      " Layer (type)                Output Shape              Param #   \n",
      "=================================================================\n",
      " gru (GRU)                   (None, None, 256)         219648    \n",
      "                                                                 \n",
      " gru_1 (GRU)                 (None, 256)               394752    \n",
      "                                                                 \n",
      " dense_2 (Dense)             (None, 10)                2570      \n",
      "                                                                 \n",
      "=================================================================\n",
      "Total params: 616,970\n",
      "Trainable params: 616,970\n",
      "Non-trainable params: 0\n",
      "_________________________________________________________________\n",
      "None\n"
     ]
    }
   ],
   "source": [
    "print(model_gru.summary())"
   ]
  },
  {
   "cell_type": "code",
   "execution_count": 20,
   "id": "cda2439d",
   "metadata": {},
   "outputs": [
    {
     "name": "stdout",
     "output_type": "stream",
     "text": [
      "Epoch 1/10\n",
      "938/938 - 25s - loss: 0.3869 - accuracy: 0.8817 - 25s/epoch - 26ms/step\n",
      "Epoch 2/10\n",
      "938/938 - 8s - loss: 0.4682 - accuracy: 0.8527 - 8s/epoch - 9ms/step\n",
      "Epoch 3/10\n",
      "938/938 - 8s - loss: 0.3774 - accuracy: 0.8840 - 8s/epoch - 9ms/step\n",
      "Epoch 4/10\n",
      "938/938 - 8s - loss: 0.3031 - accuracy: 0.9063 - 8s/epoch - 9ms/step\n",
      "Epoch 5/10\n",
      "938/938 - 8s - loss: 0.3478 - accuracy: 0.8927 - 8s/epoch - 9ms/step\n",
      "Epoch 6/10\n",
      "938/938 - 8s - loss: 0.3015 - accuracy: 0.9061 - 8s/epoch - 9ms/step\n",
      "Epoch 7/10\n",
      "938/938 - 9s - loss: 0.3157 - accuracy: 0.9039 - 9s/epoch - 9ms/step\n",
      "Epoch 8/10\n",
      "938/938 - 8s - loss: 0.2826 - accuracy: 0.9138 - 8s/epoch - 9ms/step\n",
      "Epoch 9/10\n",
      "938/938 - 8s - loss: 0.3083 - accuracy: 0.9057 - 8s/epoch - 9ms/step\n",
      "Epoch 10/10\n",
      "938/938 - 8s - loss: 0.3211 - accuracy: 0.9023 - 8s/epoch - 9ms/step\n"
     ]
    },
    {
     "data": {
      "text/plain": [
       "[1.30442476272583, 0.6175000071525574]"
      ]
     },
     "execution_count": 20,
     "metadata": {},
     "output_type": "execute_result"
    }
   ],
   "source": [
    "model_gru.fit(x_train, y_train, epochs=10, verbose = 2, batch_size = 64)\n",
    "model_gru.evaluate(x_test, y_test, batch_size = 64, verbose = 0)"
   ]
  },
  {
   "cell_type": "code",
   "execution_count": 21,
   "id": "e24df658",
   "metadata": {},
   "outputs": [],
   "source": [
    "#LSTM\n",
    "model_lstm = Sequential()\n",
    "model_lstm.add(Input((None, 28)))\n",
    "model_lstm.add(Bidirectional(LSTM(256, return_sequences = True, activation = 'tanh')))\n",
    "model_lstm.add(LSTM(256, activation ='tanh', return_sequences=False))\n",
    "model_lstm.add(Dense(10))\n",
    "\n",
    "model_lstm.compile(loss = tf.keras.losses.SparseCategoricalCrossentropy(from_logits=True), optimizer = tf.keras.optimizers.Adam(lr=0.01), metrics = ['accuracy'])"
   ]
  },
  {
   "cell_type": "code",
   "execution_count": 22,
   "id": "788f9052",
   "metadata": {},
   "outputs": [
    {
     "name": "stdout",
     "output_type": "stream",
     "text": [
      "Model: \"sequential_5\"\n",
      "_________________________________________________________________\n",
      " Layer (type)                Output Shape              Param #   \n",
      "=================================================================\n",
      " bidirectional (Bidirectiona  (None, None, 512)        583680    \n",
      " l)                                                              \n",
      "                                                                 \n",
      " lstm_1 (LSTM)               (None, 256)               787456    \n",
      "                                                                 \n",
      " dense_3 (Dense)             (None, 10)                2570      \n",
      "                                                                 \n",
      "=================================================================\n",
      "Total params: 1,373,706\n",
      "Trainable params: 1,373,706\n",
      "Non-trainable params: 0\n",
      "_________________________________________________________________\n"
     ]
    }
   ],
   "source": [
    "model_lstm.summary()"
   ]
  },
  {
   "cell_type": "code",
   "execution_count": 23,
   "id": "bae53730",
   "metadata": {},
   "outputs": [
    {
     "name": "stdout",
     "output_type": "stream",
     "text": [
      "Epoch 1/10\n",
      "938/938 - 18s - loss: 0.3938 - accuracy: 0.8739 - 18s/epoch - 19ms/step\n",
      "Epoch 2/10\n",
      "938/938 - 14s - loss: 0.1193 - accuracy: 0.9657 - 14s/epoch - 15ms/step\n",
      "Epoch 3/10\n",
      "938/938 - 15s - loss: 0.0980 - accuracy: 0.9719 - 15s/epoch - 16ms/step\n",
      "Epoch 4/10\n",
      "938/938 - 14s - loss: 0.0842 - accuracy: 0.9761 - 14s/epoch - 15ms/step\n",
      "Epoch 5/10\n",
      "938/938 - 14s - loss: 0.0874 - accuracy: 0.9749 - 14s/epoch - 15ms/step\n",
      "Epoch 6/10\n",
      "938/938 - 14s - loss: 0.0882 - accuracy: 0.9747 - 14s/epoch - 15ms/step\n",
      "Epoch 7/10\n",
      "938/938 - 15s - loss: 0.1020 - accuracy: 0.9707 - 15s/epoch - 16ms/step\n",
      "Epoch 8/10\n",
      "938/938 - 14s - loss: 0.0949 - accuracy: 0.9722 - 14s/epoch - 15ms/step\n",
      "Epoch 9/10\n",
      "938/938 - 14s - loss: 0.0989 - accuracy: 0.9711 - 14s/epoch - 15ms/step\n",
      "Epoch 10/10\n",
      "938/938 - 14s - loss: 0.3681 - accuracy: 0.8821 - 14s/epoch - 15ms/step\n"
     ]
    },
    {
     "data": {
      "text/plain": [
       "[2.6575567722320557, 0.33649998903274536]"
      ]
     },
     "execution_count": 23,
     "metadata": {},
     "output_type": "execute_result"
    }
   ],
   "source": [
    "model_lstm.fit(x_train, y_train, epochs=10, verbose = 2, batch_size = 64)\n",
    "model_lstm.evaluate(x_test, y_test, batch_size = 64, verbose = 0)"
   ]
  }
 ],
 "metadata": {
  "kernelspec": {
   "display_name": "Python 3",
   "language": "python",
   "name": "python3"
  },
  "language_info": {
   "codemirror_mode": {
    "name": "ipython",
    "version": 3
   },
   "file_extension": ".py",
   "mimetype": "text/x-python",
   "name": "python",
   "nbconvert_exporter": "python",
   "pygments_lexer": "ipython3",
   "version": "3.9.4"
  }
 },
 "nbformat": 4,
 "nbformat_minor": 5
}
